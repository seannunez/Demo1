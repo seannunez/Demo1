{
  "nbformat": 4,
  "nbformat_minor": 0,
  "metadata": {
    "colab": {
      "name": "Demo1.ipynb",
      "provenance": [],
      "collapsed_sections": []
    },
    "kernelspec": {
      "name": "python3",
      "display_name": "Python 3"
    },
    "language_info": {
      "name": "python"
    }
  },
  "cells": [
    {
      "cell_type": "code",
      "metadata": {
        "colab": {
          "base_uri": "https://localhost:8080/"
        },
        "id": "bJixI-s9fQNJ",
        "outputId": "42e86772-5d2f-4ba2-de28-7d84381b3d77"
      },
      "source": [
        "A = \"Sean \"\n",
        "B = \"Nuñez\"\n",
        "print(A + B)\n",
        "\n",
        "x = \"Fun\"\n",
        "y = \"Python programming is\"\n",
        "print('Python programming is', x)\n",
        "\n",
        "x = \"Fun\"\n",
        "y = \"Python programming is \"\n",
        "z = y + x\n",
        "print(z)\n",
        "\n",
        "x = 4\n",
        "y = 7\n",
        "sum = x + y\n",
        "print(sum)\n",
        "\n",
        "x = 1\n",
        "y = 3\n",
        "compare = x < y\n",
        "print(compare)\n",
        "\n",
        "a,b,c = 1, 2, 3\n",
        "c%=4\n",
        "print(c)"
      ],
      "execution_count": 18,
      "outputs": [
        {
          "output_type": "stream",
          "name": "stdout",
          "text": [
            "Sean Nuñez\n",
            "Python programming is Fun\n",
            "Python programming is Fun\n",
            "11\n",
            "True\n"
          ]
        },
        {
          "output_type": "execute_result",
          "data": {
            "text/plain": [
              "3"
            ]
          },
          "metadata": {},
          "execution_count": 18
        }
      ]
    }
  ]
}